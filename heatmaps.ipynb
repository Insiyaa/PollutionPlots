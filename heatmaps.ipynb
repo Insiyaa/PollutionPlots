{
 "cells": [
  {
   "cell_type": "markdown",
   "metadata": {},
   "source": [
    "## Gather Data"
   ]
  },
  {
   "cell_type": "code",
   "execution_count": 1,
   "metadata": {},
   "outputs": [],
   "source": [
    "import requests\n",
    "import csv\n",
    "import pandas as pd\n",
    "import shlex"
   ]
  },
  {
   "cell_type": "code",
   "execution_count": 215,
   "metadata": {},
   "outputs": [],
   "source": [
    "response = requests.get(\n",
    "    url = \"https://api.data.gov.in/resource/3b01bcb8-0b14-4abf-b6f2-c1bfd384ba69?api-key=579b464db66ec23bdd0000013e72a63a8d8d46297563eb47977e01cd&format=csv&offset=0&limit=1000\"\n",
    ")"
   ]
  },
  {
   "cell_type": "code",
   "execution_count": 216,
   "metadata": {},
   "outputs": [],
   "source": [
    "data = response.content.decode('utf-8').split('\\n')"
   ]
  },
  {
   "cell_type": "code",
   "execution_count": 217,
   "metadata": {},
   "outputs": [],
   "source": [
    "data = [shlex.split(a.replace(',', ' ')) for a in data]"
   ]
  },
  {
   "cell_type": "code",
   "execution_count": 218,
   "metadata": {},
   "outputs": [],
   "source": [
    "df = pd.DataFrame(data[1:], columns=data[0])"
   ]
  },
  {
   "cell_type": "code",
   "execution_count": 219,
   "metadata": {},
   "outputs": [],
   "source": [
    "df.drop(index=822, inplace=True)"
   ]
  },
  {
   "cell_type": "code",
   "execution_count": 221,
   "metadata": {},
   "outputs": [],
   "source": [
    "df.replace({\n",
    "    'Andhra_Pradesh': 'Andhra Pradesh',\n",
    "    'Uttar_Pradesh': 'Uttar Pradesh',\n",
    "    'West_Bengal': 'West Bengal'    \n",
    "}, inplace=True)"
   ]
  },
  {
   "cell_type": "markdown",
   "metadata": {},
   "source": [
    "Now I need latitude longitude of these places"
   ]
  },
  {
   "cell_type": "code",
   "execution_count": 223,
   "metadata": {},
   "outputs": [],
   "source": [
    "import geopy"
   ]
  },
  {
   "cell_type": "code",
   "execution_count": 248,
   "metadata": {},
   "outputs": [],
   "source": [
    "from geopy.extra.rate_limiter import RateLimiter\n",
    "temp = \"\"\n",
    "def lat_long(city, state, index):\n",
    "    global temp\n",
    "    global location\n",
    "    loc = city + \", \" + state\n",
    "    if loc == temp:\n",
    "        try:\n",
    "            return str(location.latitude) + \",\" + str(location.longitude)\n",
    "        except:\n",
    "            return None\n",
    "    else:\n",
    "        print(loc)\n",
    "        location = geolocator.geocode(loc)\n",
    "        temp = loc\n",
    "        try:\n",
    "            return str(location.latitude) + \",\" + str(location.longitude)\n",
    "        except:\n",
    "            return None\n",
    "\n",
    "geocode = RateLimiter(lat_long, min_delay_seconds=0.5)\n",
    "temp = \"\""
   ]
  },
  {
   "cell_type": "code",
   "execution_count": null,
   "metadata": {},
   "outputs": [],
   "source": [
    "df['lat_long'] = df.apply(lambda x: geocode(x['city'], x['state'], x.index), axis=1)"
   ]
  },
  {
   "cell_type": "code",
   "execution_count": 250,
   "metadata": {},
   "outputs": [
    {
     "data": {
      "text/html": [
       "<div>\n",
       "<style scoped>\n",
       "    .dataframe tbody tr th:only-of-type {\n",
       "        vertical-align: middle;\n",
       "    }\n",
       "\n",
       "    .dataframe tbody tr th {\n",
       "        vertical-align: top;\n",
       "    }\n",
       "\n",
       "    .dataframe thead th {\n",
       "        text-align: right;\n",
       "    }\n",
       "</style>\n",
       "<table border=\"1\" class=\"dataframe\">\n",
       "  <thead>\n",
       "    <tr style=\"text-align: right;\">\n",
       "      <th></th>\n",
       "      <th>id</th>\n",
       "      <th>country</th>\n",
       "      <th>state</th>\n",
       "      <th>city</th>\n",
       "      <th>station</th>\n",
       "      <th>last_update</th>\n",
       "      <th>pollutant_id</th>\n",
       "      <th>pollutant_min</th>\n",
       "      <th>pollutant_max</th>\n",
       "      <th>pollutant_avg</th>\n",
       "      <th>pollutant_unit</th>\n",
       "      <th>lat_long</th>\n",
       "    </tr>\n",
       "  </thead>\n",
       "  <tbody>\n",
       "    <tr>\n",
       "      <th>0</th>\n",
       "      <td>1</td>\n",
       "      <td>India</td>\n",
       "      <td>Andhra Pradesh</td>\n",
       "      <td>Amaravati</td>\n",
       "      <td>Secretariat  Amaravati - APPCB</td>\n",
       "      <td>15-12-2018 02:00:00</td>\n",
       "      <td>PM2.5</td>\n",
       "      <td>128</td>\n",
       "      <td>312</td>\n",
       "      <td>219</td>\n",
       "      <td>NA</td>\n",
       "      <td>16.5744201,80.3556079</td>\n",
       "    </tr>\n",
       "    <tr>\n",
       "      <th>1</th>\n",
       "      <td>2</td>\n",
       "      <td>India</td>\n",
       "      <td>Andhra Pradesh</td>\n",
       "      <td>Amaravati</td>\n",
       "      <td>Secretariat  Amaravati - APPCB</td>\n",
       "      <td>15-12-2018 02:00:00</td>\n",
       "      <td>PM10</td>\n",
       "      <td>118</td>\n",
       "      <td>214</td>\n",
       "      <td>146</td>\n",
       "      <td>NA</td>\n",
       "      <td>16.5744201,80.3556079</td>\n",
       "    </tr>\n",
       "    <tr>\n",
       "      <th>2</th>\n",
       "      <td>3</td>\n",
       "      <td>India</td>\n",
       "      <td>Andhra Pradesh</td>\n",
       "      <td>Amaravati</td>\n",
       "      <td>Secretariat  Amaravati - APPCB</td>\n",
       "      <td>15-12-2018 02:00:00</td>\n",
       "      <td>NO2</td>\n",
       "      <td>47</td>\n",
       "      <td>157</td>\n",
       "      <td>76</td>\n",
       "      <td>NA</td>\n",
       "      <td>16.5744201,80.3556079</td>\n",
       "    </tr>\n",
       "    <tr>\n",
       "      <th>3</th>\n",
       "      <td>4</td>\n",
       "      <td>India</td>\n",
       "      <td>Andhra Pradesh</td>\n",
       "      <td>Amaravati</td>\n",
       "      <td>Secretariat  Amaravati - APPCB</td>\n",
       "      <td>15-12-2018 02:00:00</td>\n",
       "      <td>NH3</td>\n",
       "      <td>3</td>\n",
       "      <td>5</td>\n",
       "      <td>5</td>\n",
       "      <td>NA</td>\n",
       "      <td>16.5744201,80.3556079</td>\n",
       "    </tr>\n",
       "    <tr>\n",
       "      <th>4</th>\n",
       "      <td>5</td>\n",
       "      <td>India</td>\n",
       "      <td>Andhra Pradesh</td>\n",
       "      <td>Amaravati</td>\n",
       "      <td>Secretariat  Amaravati - APPCB</td>\n",
       "      <td>15-12-2018 02:00:00</td>\n",
       "      <td>SO2</td>\n",
       "      <td>16</td>\n",
       "      <td>35</td>\n",
       "      <td>27</td>\n",
       "      <td>NA</td>\n",
       "      <td>16.5744201,80.3556079</td>\n",
       "    </tr>\n",
       "  </tbody>\n",
       "</table>\n",
       "</div>"
      ],
      "text/plain": [
       "  id country           state       city                         station  \\\n",
       "0  1   India  Andhra Pradesh  Amaravati  Secretariat  Amaravati - APPCB   \n",
       "1  2   India  Andhra Pradesh  Amaravati  Secretariat  Amaravati - APPCB   \n",
       "2  3   India  Andhra Pradesh  Amaravati  Secretariat  Amaravati - APPCB   \n",
       "3  4   India  Andhra Pradesh  Amaravati  Secretariat  Amaravati - APPCB   \n",
       "4  5   India  Andhra Pradesh  Amaravati  Secretariat  Amaravati - APPCB   \n",
       "\n",
       "           last_update pollutant_id pollutant_min pollutant_max pollutant_avg  \\\n",
       "0  15-12-2018 02:00:00        PM2.5           128           312           219   \n",
       "1  15-12-2018 02:00:00         PM10           118           214           146   \n",
       "2  15-12-2018 02:00:00          NO2            47           157            76   \n",
       "3  15-12-2018 02:00:00          NH3             3             5             5   \n",
       "4  15-12-2018 02:00:00          SO2            16            35            27   \n",
       "\n",
       "  pollutant_unit               lat_long  \n",
       "0             NA  16.5744201,80.3556079  \n",
       "1             NA  16.5744201,80.3556079  \n",
       "2             NA  16.5744201,80.3556079  \n",
       "3             NA  16.5744201,80.3556079  \n",
       "4             NA  16.5744201,80.3556079  "
      ]
     },
     "execution_count": 250,
     "metadata": {},
     "output_type": "execute_result"
    }
   ],
   "source": [
    "df.head()"
   ]
  },
  {
   "cell_type": "code",
   "execution_count": null,
   "metadata": {},
   "outputs": [],
   "source": [
    "df.to_csv('data.csv')"
   ]
  },
  {
   "cell_type": "markdown",
   "metadata": {},
   "source": [
    "## Plotting"
   ]
  },
  {
   "cell_type": "code",
   "execution_count": 129,
   "metadata": {},
   "outputs": [],
   "source": [
    "df = pd.read_csv('data.csv', dtype={'lat_long': 'str'})"
   ]
  },
  {
   "cell_type": "code",
   "execution_count": 130,
   "metadata": {},
   "outputs": [],
   "source": [
    "df.drop('Unnamed: 0', axis=1, inplace=True)"
   ]
  },
  {
   "cell_type": "code",
   "execution_count": 131,
   "metadata": {},
   "outputs": [
    {
     "data": {
      "text/html": [
       "<div>\n",
       "<style scoped>\n",
       "    .dataframe tbody tr th:only-of-type {\n",
       "        vertical-align: middle;\n",
       "    }\n",
       "\n",
       "    .dataframe tbody tr th {\n",
       "        vertical-align: top;\n",
       "    }\n",
       "\n",
       "    .dataframe thead th {\n",
       "        text-align: right;\n",
       "    }\n",
       "</style>\n",
       "<table border=\"1\" class=\"dataframe\">\n",
       "  <thead>\n",
       "    <tr style=\"text-align: right;\">\n",
       "      <th></th>\n",
       "      <th>id</th>\n",
       "      <th>country</th>\n",
       "      <th>state</th>\n",
       "      <th>city</th>\n",
       "      <th>station</th>\n",
       "      <th>last_update</th>\n",
       "      <th>pollutant_id</th>\n",
       "      <th>pollutant_min</th>\n",
       "      <th>pollutant_max</th>\n",
       "      <th>pollutant_avg</th>\n",
       "      <th>pollutant_unit</th>\n",
       "      <th>lat_long</th>\n",
       "    </tr>\n",
       "  </thead>\n",
       "  <tbody>\n",
       "    <tr>\n",
       "      <th>0</th>\n",
       "      <td>1</td>\n",
       "      <td>India</td>\n",
       "      <td>Andhra Pradesh</td>\n",
       "      <td>Amaravati</td>\n",
       "      <td>Secretariat  Amaravati - APPCB</td>\n",
       "      <td>15-12-2018 02:00:00</td>\n",
       "      <td>PM2.5</td>\n",
       "      <td>128.0</td>\n",
       "      <td>312.0</td>\n",
       "      <td>219.0</td>\n",
       "      <td>NaN</td>\n",
       "      <td>16.5744201,80.3556079</td>\n",
       "    </tr>\n",
       "    <tr>\n",
       "      <th>1</th>\n",
       "      <td>2</td>\n",
       "      <td>India</td>\n",
       "      <td>Andhra Pradesh</td>\n",
       "      <td>Amaravati</td>\n",
       "      <td>Secretariat  Amaravati - APPCB</td>\n",
       "      <td>15-12-2018 02:00:00</td>\n",
       "      <td>PM10</td>\n",
       "      <td>118.0</td>\n",
       "      <td>214.0</td>\n",
       "      <td>146.0</td>\n",
       "      <td>NaN</td>\n",
       "      <td>16.5744201,80.3556079</td>\n",
       "    </tr>\n",
       "    <tr>\n",
       "      <th>2</th>\n",
       "      <td>3</td>\n",
       "      <td>India</td>\n",
       "      <td>Andhra Pradesh</td>\n",
       "      <td>Amaravati</td>\n",
       "      <td>Secretariat  Amaravati - APPCB</td>\n",
       "      <td>15-12-2018 02:00:00</td>\n",
       "      <td>NO2</td>\n",
       "      <td>47.0</td>\n",
       "      <td>157.0</td>\n",
       "      <td>76.0</td>\n",
       "      <td>NaN</td>\n",
       "      <td>16.5744201,80.3556079</td>\n",
       "    </tr>\n",
       "    <tr>\n",
       "      <th>3</th>\n",
       "      <td>4</td>\n",
       "      <td>India</td>\n",
       "      <td>Andhra Pradesh</td>\n",
       "      <td>Amaravati</td>\n",
       "      <td>Secretariat  Amaravati - APPCB</td>\n",
       "      <td>15-12-2018 02:00:00</td>\n",
       "      <td>NH3</td>\n",
       "      <td>3.0</td>\n",
       "      <td>5.0</td>\n",
       "      <td>5.0</td>\n",
       "      <td>NaN</td>\n",
       "      <td>16.5744201,80.3556079</td>\n",
       "    </tr>\n",
       "    <tr>\n",
       "      <th>4</th>\n",
       "      <td>5</td>\n",
       "      <td>India</td>\n",
       "      <td>Andhra Pradesh</td>\n",
       "      <td>Amaravati</td>\n",
       "      <td>Secretariat  Amaravati - APPCB</td>\n",
       "      <td>15-12-2018 02:00:00</td>\n",
       "      <td>SO2</td>\n",
       "      <td>16.0</td>\n",
       "      <td>35.0</td>\n",
       "      <td>27.0</td>\n",
       "      <td>NaN</td>\n",
       "      <td>16.5744201,80.3556079</td>\n",
       "    </tr>\n",
       "  </tbody>\n",
       "</table>\n",
       "</div>"
      ],
      "text/plain": [
       "   id country           state       city                         station  \\\n",
       "0   1   India  Andhra Pradesh  Amaravati  Secretariat  Amaravati - APPCB   \n",
       "1   2   India  Andhra Pradesh  Amaravati  Secretariat  Amaravati - APPCB   \n",
       "2   3   India  Andhra Pradesh  Amaravati  Secretariat  Amaravati - APPCB   \n",
       "3   4   India  Andhra Pradesh  Amaravati  Secretariat  Amaravati - APPCB   \n",
       "4   5   India  Andhra Pradesh  Amaravati  Secretariat  Amaravati - APPCB   \n",
       "\n",
       "           last_update pollutant_id  pollutant_min  pollutant_max  \\\n",
       "0  15-12-2018 02:00:00        PM2.5          128.0          312.0   \n",
       "1  15-12-2018 02:00:00         PM10          118.0          214.0   \n",
       "2  15-12-2018 02:00:00          NO2           47.0          157.0   \n",
       "3  15-12-2018 02:00:00          NH3            3.0            5.0   \n",
       "4  15-12-2018 02:00:00          SO2           16.0           35.0   \n",
       "\n",
       "   pollutant_avg  pollutant_unit               lat_long  \n",
       "0          219.0             NaN  16.5744201,80.3556079  \n",
       "1          146.0             NaN  16.5744201,80.3556079  \n",
       "2           76.0             NaN  16.5744201,80.3556079  \n",
       "3            5.0             NaN  16.5744201,80.3556079  \n",
       "4           27.0             NaN  16.5744201,80.3556079  "
      ]
     },
     "execution_count": 131,
     "metadata": {},
     "output_type": "execute_result"
    }
   ],
   "source": [
    "df.head()"
   ]
  },
  {
   "cell_type": "code",
   "execution_count": 132,
   "metadata": {},
   "outputs": [],
   "source": [
    "plotdf = df.iloc[:, [2,3,6,9,11]]"
   ]
  },
  {
   "cell_type": "code",
   "execution_count": 133,
   "metadata": {},
   "outputs": [],
   "source": [
    "plot_df = plotdf.sort_values(by='pollutant_id')"
   ]
  },
  {
   "cell_type": "code",
   "execution_count": 134,
   "metadata": {},
   "outputs": [],
   "source": [
    "plot_df.dropna(axis = 0, inplace=True)"
   ]
  },
  {
   "cell_type": "code",
   "execution_count": 135,
   "metadata": {},
   "outputs": [],
   "source": [
    "lat = [float(x.split(',')[0]) for x in plot_CO['lat_long']]\n",
    "long = [float(x.split(',')[1]) for x in plot_CO['lat_long']]"
   ]
  },
  {
   "cell_type": "code",
   "execution_count": 136,
   "metadata": {},
   "outputs": [],
   "source": [
    "import plotly\n",
    "plotly.tools.set_credentials_file(username='edmdopes', api_key='JlrgiM5KUuQYXyMPCSHC')"
   ]
  },
  {
   "cell_type": "code",
   "execution_count": 137,
   "metadata": {},
   "outputs": [],
   "source": [
    "import plotly.plotly as py"
   ]
  },
  {
   "cell_type": "code",
   "execution_count": 138,
   "metadata": {},
   "outputs": [],
   "source": [
    "data = []\n",
    "for a in plot_df['pollutant_id'].unique():\n",
    "    plot = plot_df[plot_df['pollutant_id'] == f'{a}']\n",
    "    lat = [float(x.split(',')[0]) for x in plot['lat_long']]\n",
    "    long = [float(x.split(',')[1]) for x in plot['lat_long']]\n",
    "    text = plot['city'] + \", \" + plot['state'] + '-' + a + '-' + plot['pollutant_avg'].astype('str')\n",
    "    p_dict = dict(\n",
    "        type = 'scattergeo',\n",
    "        locationmode = 'India',\n",
    "        lon = long,\n",
    "        lat = lat,\n",
    "        text = text,\n",
    "        mode = 'markers',\n",
    "        marker = dict(\n",
    "            size = 20,\n",
    "            opacity = 0.8,\n",
    "            reversescale = False,\n",
    "            autocolorscale = True,\n",
    "            symbol = 'circle',\n",
    "            cmin = 0,\n",
    "            color = plot['pollutant_avg'],\n",
    "            cmax = plot['pollutant_avg'].max(),\n",
    "            colorbar=dict(\n",
    "                size = 20,\n",
    "                title=f\"{a} as pollutant\"\n",
    "            )\n",
    "        ))\n",
    "    data.append(p_dict)"
   ]
  },
  {
   "cell_type": "code",
   "execution_count": 139,
   "metadata": {},
   "outputs": [],
   "source": [
    "layout = dict(\n",
    "        title = 'Pollution in India',\n",
    "        colorbar = True,\n",
    "        geo = dict(\n",
    "            scope='asia',\n",
    "            projection=dict( type='delhi india' ),\n",
    "            showland = True,\n",
    "            landcolor = \"rgb(250, 250, 250)\",\n",
    "            subunitcolor = \"rgb(217, 217, 217)\",\n",
    "            countrycolor = \"rgb(217, 217, 217)\",\n",
    "            countrywidth = 0.8,\n",
    "            subunitwidth = 0.8,\n",
    "            center = dict(\n",
    "                lat = 23.61097367916291,\n",
    "                lon = 80.3555029509925\n",
    "            ),\n",
    "            margin = dict(\n",
    "                t = 55,\n",
    "                b = 55,\n",
    "                l = 55,\n",
    "                r = 55,\n",
    "                p = 0,\n",
    "                autoexpand = True\n",
    "            )\n",
    "        ),\n",
    "    )"
   ]
  },
  {
   "cell_type": "code",
   "execution_count": 140,
   "metadata": {},
   "outputs": [
    {
     "data": {
      "text/html": [
       "<iframe id=\"igraph\" scrolling=\"no\" style=\"border:none;\" seamless=\"seamless\" src=\"https://plot.ly/~edmdopes/2.embed\" height=\"525px\" width=\"100%\"></iframe>"
      ],
      "text/plain": [
       "<plotly.tools.PlotlyDisplay object>"
      ]
     },
     "execution_count": 140,
     "metadata": {},
     "output_type": "execute_result"
    }
   ],
   "source": [
    "fig = dict( data=[data[0]], layout=layout )\n",
    "py.iplot( fig, validate=False, filename='CO' )"
   ]
  },
  {
   "cell_type": "code",
   "execution_count": 141,
   "metadata": {},
   "outputs": [
    {
     "data": {
      "text/html": [
       "<iframe id=\"igraph\" scrolling=\"no\" style=\"border:none;\" seamless=\"seamless\" src=\"https://plot.ly/~edmdopes/4.embed\" height=\"525px\" width=\"100%\"></iframe>"
      ],
      "text/plain": [
       "<plotly.tools.PlotlyDisplay object>"
      ]
     },
     "execution_count": 141,
     "metadata": {},
     "output_type": "execute_result"
    }
   ],
   "source": [
    "fig = dict( data=[data[1]], layout=layout )\n",
    "py.iplot( fig, validate=False, filename='NH3' )"
   ]
  },
  {
   "cell_type": "code",
   "execution_count": 142,
   "metadata": {},
   "outputs": [
    {
     "data": {
      "text/html": [
       "<iframe id=\"igraph\" scrolling=\"no\" style=\"border:none;\" seamless=\"seamless\" src=\"https://plot.ly/~edmdopes/8.embed\" height=\"525px\" width=\"100%\"></iframe>"
      ],
      "text/plain": [
       "<plotly.tools.PlotlyDisplay object>"
      ]
     },
     "execution_count": 142,
     "metadata": {},
     "output_type": "execute_result"
    }
   ],
   "source": [
    "fig = dict( data=[data[2]], layout=layout )\n",
    "py.iplot( fig, validate=False, filename='NO2' )"
   ]
  },
  {
   "cell_type": "code",
   "execution_count": 143,
   "metadata": {},
   "outputs": [
    {
     "data": {
      "text/html": [
       "<iframe id=\"igraph\" scrolling=\"no\" style=\"border:none;\" seamless=\"seamless\" src=\"https://plot.ly/~edmdopes/10.embed\" height=\"525px\" width=\"100%\"></iframe>"
      ],
      "text/plain": [
       "<plotly.tools.PlotlyDisplay object>"
      ]
     },
     "execution_count": 143,
     "metadata": {},
     "output_type": "execute_result"
    }
   ],
   "source": [
    "fig = dict( data=[data[3]], layout=layout )\n",
    "py.iplot( fig, validate=False, filename='OZONE' )"
   ]
  },
  {
   "cell_type": "code",
   "execution_count": 144,
   "metadata": {},
   "outputs": [
    {
     "data": {
      "text/html": [
       "<iframe id=\"igraph\" scrolling=\"no\" style=\"border:none;\" seamless=\"seamless\" src=\"https://plot.ly/~edmdopes/12.embed\" height=\"525px\" width=\"100%\"></iframe>"
      ],
      "text/plain": [
       "<plotly.tools.PlotlyDisplay object>"
      ]
     },
     "execution_count": 144,
     "metadata": {},
     "output_type": "execute_result"
    }
   ],
   "source": [
    "fig = dict( data=[data[4]], layout=layout )\n",
    "py.iplot( fig, validate=False, filename='PM10' )"
   ]
  },
  {
   "cell_type": "code",
   "execution_count": 145,
   "metadata": {},
   "outputs": [
    {
     "data": {
      "text/html": [
       "<iframe id=\"igraph\" scrolling=\"no\" style=\"border:none;\" seamless=\"seamless\" src=\"https://plot.ly/~edmdopes/14.embed\" height=\"525px\" width=\"100%\"></iframe>"
      ],
      "text/plain": [
       "<plotly.tools.PlotlyDisplay object>"
      ]
     },
     "execution_count": 145,
     "metadata": {},
     "output_type": "execute_result"
    }
   ],
   "source": [
    "fig = dict( data=[data[5]], layout=layout )\n",
    "py.iplot( fig, validate=False, filename='PM2.5' )"
   ]
  },
  {
   "cell_type": "code",
   "execution_count": 146,
   "metadata": {},
   "outputs": [
    {
     "data": {
      "text/html": [
       "<iframe id=\"igraph\" scrolling=\"no\" style=\"border:none;\" seamless=\"seamless\" src=\"https://plot.ly/~edmdopes/16.embed\" height=\"525px\" width=\"100%\"></iframe>"
      ],
      "text/plain": [
       "<plotly.tools.PlotlyDisplay object>"
      ]
     },
     "execution_count": 146,
     "metadata": {},
     "output_type": "execute_result"
    }
   ],
   "source": [
    "fig = dict( data=[data[6]], layout=layout )\n",
    "py.iplot( fig, validate=False, filename='SO2' )"
   ]
  },
  {
   "cell_type": "code",
   "execution_count": null,
   "metadata": {},
   "outputs": [],
   "source": []
  }
 ],
 "metadata": {
  "kernelspec": {
   "display_name": "Python 3",
   "language": "python",
   "name": "python3"
  },
  "language_info": {
   "codemirror_mode": {
    "name": "ipython",
    "version": 3
   },
   "file_extension": ".py",
   "mimetype": "text/x-python",
   "name": "python",
   "nbconvert_exporter": "python",
   "pygments_lexer": "ipython3",
   "version": "3.6.5"
  }
 },
 "nbformat": 4,
 "nbformat_minor": 2
}
